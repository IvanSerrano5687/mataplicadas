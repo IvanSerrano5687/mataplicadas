{
  "nbformat": 4,
  "nbformat_minor": 0,
  "metadata": {
    "colab": {
      "provenance": [],
      "authorship_tag": "ABX9TyPMGr1EZ1YMoo5+YJOeE8/i",
      "include_colab_link": true
    },
    "kernelspec": {
      "name": "python3",
      "display_name": "Python 3"
    },
    "language_info": {
      "name": "python"
    }
  },
  "cells": [
    {
      "cell_type": "markdown",
      "metadata": {
        "id": "view-in-github",
        "colab_type": "text"
      },
      "source": [
        "<a href=\"https://colab.research.google.com/github/IvanSerrano5687/mataplicadas/blob/main/SerranoIvan_A00410697.ipynb\" target=\"_parent\"><img src=\"https://colab.research.google.com/assets/colab-badge.svg\" alt=\"Open In Colab\"/></a>"
      ]
    },
    {
      "cell_type": "markdown",
      "source": [
        "<center><Title> Mi Autobiografia </Title></center>\n",
        "\n",
        "Mi nombre es <b>Ivan Mauricio Serrano</b>, tengo 17 años, nací el 8 de febrero del 2007, vivo con mi Papá y mi Mamá, tambien tengo 4 gatos, actualmente estoy en segundo semestre de Ingeniería en Energía Inteligente en la Universidad Icesi, mi meta es tener una empresa y viajar por el mundo. Me gustan los videojuegos como:\n",
        "-Call of Duty\n",
        "-Rocket League\n",
        "-Fortnite. <p>\n",
        "\n",
        "Mi deporte favorito es F1, mis equipos favoritos son Ferrari y Red Bull.\n",
        "<img src = \"https://media.contentapi.ea.com/content/dam/ea/f1/f1-23/common/articles/patch-note-v109/pj-f123-bel-w01-rus-unmarked.jpg.adapt.crop191x100.628p.jpg\">\n",
        "\n",
        " me gusta escuchar música y mis generos favoritos son: -Salsa, -Reggaeton, -Corridos, entre otros.Mis 5 canciones favoritas son:\n",
        "\n",
        ">1.Así no\n",
        "\n",
        ">><i>Autor es Orquesta Sono-Lux.  \n",
        ">>><i>su compositor es Willie Mcneil.\n",
        "\n",
        ">2.Rosones      \n",
        ">><i>Versión de Tito Double P y Fuerza Régida.\n",
        ">>><i>su compositor fué JOP y Tito Double P.\n",
        "\n",
        ">3.Ella Mintió\n",
        "\n",
        ">><i>Hector Lavoe\n",
        "\n",
        ">>><i>sus compositores son:-Garciela Beatriz Garballo Villanueva, -Amanda Miguel, -Diego Verdaguer\n",
        "\n",
        ">4.Nueva Vida\n",
        "\n",
        ">><i>Peso Pluma\n",
        "\n",
        ">>><i>sus compositores más destacados son Edgar barrera y el mismo Peso Pluma\n",
        "\n",
        ">5. Como los quiero\n",
        "\n",
        ">><i>Ñejo y Dalmata\n",
        "\n",
        ">>><i>compuesta por ellos mismos.\n",
        "\n",
        "|Asignaturas | Razón        |\n",
        "|------------|--------------|\n",
        "|Energia global | Porque es la materia directamente de la carrera y me gusta mucho saber sobre energia, además la clase es muy diferente de lo habitual y dinámica. |\n",
        "|Ingles | Me gusta mucho porque es muy dinámica y diferente de lo usual por lo que la hace mucho más atractiva. |\n",
        "|Lenguaje | Me gusta porque esta materia enseña como ser un buen orador y a escrbir de una muy buena manera.\n",
        "\n",
        "\n",
        "\n",
        "\n"
      ],
      "metadata": {
        "id": "z5FCrHNA_E18"
      }
    }
  ]
}